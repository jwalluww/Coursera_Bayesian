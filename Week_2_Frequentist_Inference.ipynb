{
 "cells": [
  {
   "cell_type": "markdown",
   "id": "91769a02",
   "metadata": {},
   "source": [
    "# Probability Distributions"
   ]
  },
  {
   "cell_type": "code",
   "execution_count": 5,
   "id": "881c7653",
   "metadata": {},
   "outputs": [],
   "source": [
    "# install.packages('caret')"
   ]
  },
  {
   "cell_type": "markdown",
   "id": "aac6cc8b",
   "metadata": {},
   "source": [
    "https://d18ky98rnyall9.cloudfront.net/_62835c1b5b81af286ba54a920f2a4d5f_L5_background.pdf?Expires=1643587200&Signature=d4ohQAvX~zx3yih6firyRJ-1ckketRDoYiCThoOVfPBQNhBlsRlGvf5wImA4CLAvX2ZvNgJE4GnVRxc~Uaxvxh2fBp5SnZdYEthqF67j737unszINhUtNoZTjv4mumtCP8S5w1S-S1WVbzI219jrOa2bQxf9K4tukrJp~ALb3o8_&Key-Pair-Id=APKAJLTNE6QMUY6HBC5A"
   ]
  },
  {
   "cell_type": "code",
   "execution_count": 8,
   "id": "f4a113cd",
   "metadata": {},
   "outputs": [],
   "source": [
    "# dnorm(x,mean,sd) - Evaluate PDF at x (mean=u and sd = sqrt(r^2))\n",
    "# pnorm(q,mean,sd) - Evaluate CDF at q\n",
    "# qnorm(p,mean,sd) - Evaluate teh quantile function at p\n",
    "# rnorm(n,mean,sd) - Generate n pseudo-rnadom samples from the normal distribution"
   ]
  },
  {
   "cell_type": "code",
   "execution_count": 9,
   "id": "72c7749d",
   "metadata": {},
   "outputs": [],
   "source": [
    "# Binomial(n,p) - dbinom(x,size,prob) - size=n,prob=p\n",
    "# Poisson(lambda) - dpois(x,lambda) - lambda=lambda\n",
    "# Exp(lambda) - dexp(x,rate) - rate=lambda\n",
    "# Gamma(a,B) - dgamma(x,shape,rate) - shape=1,rate=B\n",
    "# Uniform(a,b) - dunif(x,min,max) - min=a,max=b\n",
    "# Beta(a,B) - dbeta(x,shape1,shape2) - shape1=a,shape2=B\n",
    "# N(u,r^2) - dnorm(x,mean,sd) - mean=u,sd=sqrt(r^2)\n",
    "# tv - dt(x,df) - df=v"
   ]
  },
  {
   "cell_type": "markdown",
   "id": "e7c02bbf",
   "metadata": {},
   "source": [
    "***\n",
    "***\n",
    "***"
   ]
  }
 ],
 "metadata": {
  "kernelspec": {
   "display_name": "R",
   "language": "R",
   "name": "ir"
  },
  "language_info": {
   "codemirror_mode": "r",
   "file_extension": ".r",
   "mimetype": "text/x-r-source",
   "name": "R",
   "pygments_lexer": "r",
   "version": "3.6.1"
  }
 },
 "nbformat": 4,
 "nbformat_minor": 5
}
